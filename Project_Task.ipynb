{
  "nbformat": 4,
  "nbformat_minor": 0,
  "metadata": {
    "colab": {
      "provenance": [],
      "include_colab_link": true
    },
    "kernelspec": {
      "name": "python3",
      "display_name": "Python 3"
    },
    "language_info": {
      "name": "python"
    }
  },
  "cells": [
    {
      "cell_type": "markdown",
      "metadata": {
        "id": "view-in-github",
        "colab_type": "text"
      },
      "source": [
        "<a href=\"https://colab.research.google.com/github/Ian-Karanja-k/dsc-conditionals/blob/master/Project_Task.ipynb\" target=\"_parent\"><img src=\"https://colab.research.google.com/assets/colab-badge.svg\" alt=\"Open In Colab\"/></a>"
      ]
    },
    {
      "cell_type": "markdown",
      "source": [
        "#  Microsoft movie studio program\n",
        "##We will analyze three key metrices about movies:\n",
        "\n",
        "*   **BoxOfficeRevenue (Domestic Gross)**:Earnings of movies in USD\n",
        "*   **RuntimeMinutes**:Total duration of movies.\n",
        "*   **OverallRating (IMDB Average Rating)**:Quality ratings of the movie.\n",
        "\n",
        "## Data sources:\n",
        "\n",
        "\n",
        "*   bom.movie_gross.csv (Box Office Mojo)\n",
        "*   imdb.title.basics.csv (Movie metadata)\n",
        "*   imdb.title.ratings.csv (Movie ratings)\n",
        "\n",
        "## We will:\n",
        "\n",
        "1. Merge datasets and clean data\n",
        "2. Produce summary statistics\n",
        "3. Visualize distributions\n",
        "4. Interpret findings\n",
        "\n",
        "## Deliverables:\n",
        "\n",
        "\n",
        "*   Three actionable recommendationfor microsoft based on our findings and analysis.\n",
        "\n",
        "\n",
        "\n",
        "\n",
        "\n",
        "\n",
        "\n",
        "\n",
        "\n"
      ],
      "metadata": {
        "id": "TApfbW8GprLH"
      }
    },
    {
      "cell_type": "code",
      "source": [
        "# import necessary libraries\n",
        "import pandas as pd\n",
        "import matplotlib.pyplot as plt\n",
        "import seaborn as sns"
      ],
      "metadata": {
        "id": "orl2NW6npo-U"
      },
      "execution_count": null,
      "outputs": []
    },
    {
      "cell_type": "code",
      "source": [
        "bom = pd.read_csv('bom.movie_gross.csv.gz')\n",
        "basics = pd.read_csv('imdb.title.basics.csv.gz')\n",
        "ratings = pd.read_csv('imdb.title.ratings.csv.gz')"
      ],
      "metadata": {
        "id": "sOG2-OBaDPYo"
      },
      "execution_count": null,
      "outputs": []
    },
    {
      "cell_type": "code",
      "source": [
        "print('BOM columns:', bom.columns)\n",
        "print('Basics columns:', basics.columns)\n",
        "print('Ratings columns:', ratings.columns)"
      ],
      "metadata": {
        "colab": {
          "base_uri": "https://localhost:8080/"
        },
        "id": "FP52qTc_DPVE",
        "outputId": "6780440d-2f4c-4d3d-aeda-7a15d6dde51f"
      },
      "execution_count": null,
      "outputs": [
        {
          "output_type": "stream",
          "name": "stdout",
          "text": [
            "BOM columns: Index(['title', 'studio', 'domestic_gross', 'foreign_gross', 'year'], dtype='object')\n",
            "Basics columns: Index(['tconst', 'primary_title', 'original_title', 'start_year',\n",
            "       'runtime_minutes', 'genres'],\n",
            "      dtype='object')\n",
            "Ratings columns: Index(['tconst', 'averagerating', 'numvotes'], dtype='object')\n"
          ]
        }
      ]
    },
    {
      "cell_type": "code",
      "source": [
        "# detect domestic and foreign gross columns\n",
        "domestic_col, foreign_col = None, None\n",
        "for col in bom.columns:\n",
        "    if 'domestic' in col.lower():\n",
        "        domestic_col = col\n",
        "    elif 'foreign' in col.lower():\n",
        "        foreign_col = col"
      ],
      "metadata": {
        "id": "Ew8ITUo-DPTm"
      },
      "execution_count": null,
      "outputs": []
    },
    {
      "cell_type": "code",
      "source": [
        "# renaming columns for clarity\n",
        "rename_map = {}\n",
        "if domestic_col:\n",
        "    rename_map[domestic_col] = 'DomesticRevenue'\n",
        "if foreign_col:\n",
        "    rename_map[foreign_col] = 'ForeignRevenue'\n",
        "\n",
        "# Apply the renaming\n",
        "bom.rename(columns=rename_map, inplace=True)"
      ],
      "metadata": {
        "id": "kAXVDpzkDPRt"
      },
      "execution_count": null,
      "outputs": []
    },
    {
      "cell_type": "code",
      "source": [
        "# convert to numeric (reemove $, commas) for both\n",
        "for col in ['DomesticRevenue', 'ForeignRevenue']:\n",
        "    if col in bom.columns:\n",
        "        bom[col] = (\n",
        "            bom[col]\n",
        "            .astype(str)\n",
        "            .replace('[\\$,]', '', regex=True)\n",
        "            .replace('nan', '0')\n",
        "            .astype(float)\n",
        "        )"
      ],
      "metadata": {
        "id": "EWYqajtfDPNy"
      },
      "execution_count": null,
      "outputs": []
    },
    {
      "cell_type": "code",
      "metadata": {
        "colab": {
          "base_uri": "https://localhost:8080/",
          "height": 146
        },
        "outputId": "36e31c8c-a403-42e4-b5b2-8fb18f1f46e3",
        "id": "fd2MFCIyVr5X"
      },
      "source": [
        "display(bom[['DomesticRevenue', 'ForeignRevenue']].dtypes)"
      ],
      "execution_count": null,
      "outputs": [
        {
          "output_type": "display_data",
          "data": {
            "text/plain": [
              "DomesticRevenue    float64\n",
              "ForeignRevenue     float64\n",
              "dtype: object"
            ],
            "text/html": [
              "<div>\n",
              "<style scoped>\n",
              "    .dataframe tbody tr th:only-of-type {\n",
              "        vertical-align: middle;\n",
              "    }\n",
              "\n",
              "    .dataframe tbody tr th {\n",
              "        vertical-align: top;\n",
              "    }\n",
              "\n",
              "    .dataframe thead th {\n",
              "        text-align: right;\n",
              "    }\n",
              "</style>\n",
              "<table border=\"1\" class=\"dataframe\">\n",
              "  <thead>\n",
              "    <tr style=\"text-align: right;\">\n",
              "      <th></th>\n",
              "      <th>0</th>\n",
              "    </tr>\n",
              "  </thead>\n",
              "  <tbody>\n",
              "    <tr>\n",
              "      <th>DomesticRevenue</th>\n",
              "      <td>float64</td>\n",
              "    </tr>\n",
              "    <tr>\n",
              "      <th>ForeignRevenue</th>\n",
              "      <td>float64</td>\n",
              "    </tr>\n",
              "  </tbody>\n",
              "</table>\n",
              "</div><br><label><b>dtype:</b> object</label>"
            ]
          },
          "metadata": {}
        }
      ]
    },
    {
      "cell_type": "code",
      "source": [
        "# create TotalRevenue = Domestic + Foreign\n",
        "bom['TotalRevenue'] = bom['DomesticRevenue'] + bom['ForeignRevenue']"
      ],
      "metadata": {
        "id": "sstrq_jZDPMW"
      },
      "execution_count": null,
      "outputs": []
    },
    {
      "cell_type": "code",
      "source": [
        "# rename title column to primarytitle (for merging later)\n",
        "title_col = None\n",
        "for col in bom.columns:\n",
        "    if 'title' in col.lower():\n",
        "        title_col = col\n",
        "        break\n",
        "\n",
        "bom = bom.rename(columns={title_col: 'primaryTitle'})\n",
        "\n",
        "print(\"Cleaned BOM preview with TotalRevenue:\")\n",
        "print(bom.head())"
      ],
      "metadata": {
        "id": "NCZXo5rODPHS",
        "colab": {
          "base_uri": "https://localhost:8080/"
        },
        "outputId": "1a498d39-7576-4646-a359-e9cd46219d56"
      },
      "execution_count": null,
      "outputs": [
        {
          "output_type": "stream",
          "name": "stdout",
          "text": [
            "Cleaned BOM preview with TotalRevenue:\n",
            "                                  primaryTitle studio  DomesticRevenue  \\\n",
            "0                                  Toy Story 3     BV      415000000.0   \n",
            "1                   Alice in Wonderland (2010)     BV      334200000.0   \n",
            "2  Harry Potter and the Deathly Hallows Part 1     WB      296000000.0   \n",
            "3                                    Inception     WB      292600000.0   \n",
            "4                          Shrek Forever After   P/DW      238700000.0   \n",
            "\n",
            "   ForeignRevenue  year  TotalRevenue  \n",
            "0     652000000.0  2010  1.067000e+09  \n",
            "1     691300000.0  2010  1.025500e+09  \n",
            "2     664300000.0  2010  9.603000e+08  \n",
            "3     535700000.0  2010  8.283000e+08  \n",
            "4     513900000.0  2010  7.526000e+08  \n"
          ]
        }
      ]
    },
    {
      "cell_type": "markdown",
      "source": [
        "## Merge IMDb Basics + Ratings"
      ],
      "metadata": {
        "id": "PkmjbpqzWx50"
      }
    },
    {
      "cell_type": "code",
      "source": [
        "# merge basics and ratings on tconst\n",
        "imdb_data = pd.merge(basics, ratings, on='tconst', how='inner')"
      ],
      "metadata": {
        "id": "6_RsqDBBDOVn"
      },
      "execution_count": null,
      "outputs": []
    },
    {
      "cell_type": "code",
      "source": [
        "# ensure title column is primaryTitle\n",
        "if 'primaryTitle' not in imdb_data.columns:\n",
        "    for col in imdb_data.columns:\n",
        "        if 'title' in col.lower():\n",
        "          imdb_data = imdb_data.rename(columns={col: 'primaryTitle'})\n",
        "          break\n",
        "\n",
        "print(\"IMDB merged shape:\", imdb_data.shape)\n",
        "print(imdb_data.head())\n"
      ],
      "metadata": {
        "colab": {
          "base_uri": "https://localhost:8080/"
        },
        "id": "0h1SFZrdXpk1",
        "outputId": "087adc18-436e-4346-9d94-40397afb09e4"
      },
      "execution_count": null,
      "outputs": [
        {
          "output_type": "stream",
          "name": "stdout",
          "text": [
            "IMDB merged shape: (73856, 8)\n",
            "      tconst                     primaryTitle              original_title  \\\n",
            "0  tt0063540                        Sunghursh                   Sunghursh   \n",
            "1  tt0066787  One Day Before the Rainy Season             Ashad Ka Ek Din   \n",
            "2  tt0069049       The Other Side of the Wind  The Other Side of the Wind   \n",
            "3  tt0069204                  Sabse Bada Sukh             Sabse Bada Sukh   \n",
            "4  tt0100275         The Wandering Soap Opera       La Telenovela Errante   \n",
            "\n",
            "   start_year  runtime_minutes                genres  averagerating  numvotes  \n",
            "0        2013            175.0    Action,Crime,Drama            7.0        77  \n",
            "1        2019            114.0       Biography,Drama            7.2        43  \n",
            "2        2018            122.0                 Drama            6.9      4517  \n",
            "3        2018              NaN          Comedy,Drama            6.1        13  \n",
            "4        2017             80.0  Comedy,Drama,Fantasy            6.5       119  \n"
          ]
        }
      ]
    },
    {
      "cell_type": "markdown",
      "source": [
        "## Merge IMDb Data with BOM (on Title)"
      ],
      "metadata": {
        "id": "tIHf_42sZLOP"
      }
    },
    {
      "cell_type": "code",
      "source": [
        "# merge on primaryTitle\n",
        "merged = pd.merge(bom, imdb_data, on='primaryTitle', how='inner')\n",
        "\n",
        "print(\"Merged dataset shape:\", merged.shape)\n",
        "print(merged.head())"
      ],
      "metadata": {
        "colab": {
          "base_uri": "https://localhost:8080/"
        },
        "id": "Loi6Ls1mXphE",
        "outputId": "00b01003-3b4e-4a83-ae2a-f7b67376b73e"
      },
      "execution_count": null,
      "outputs": [
        {
          "output_type": "stream",
          "name": "stdout",
          "text": [
            "Merged dataset shape: (3027, 13)\n",
            "                 primaryTitle studio  DomesticRevenue  ForeignRevenue  year  \\\n",
            "0                 Toy Story 3     BV      415000000.0     652000000.0  2010   \n",
            "1                   Inception     WB      292600000.0     535700000.0  2010   \n",
            "2         Shrek Forever After   P/DW      238700000.0     513900000.0  2010   \n",
            "3  The Twilight Saga: Eclipse   Sum.      300500000.0     398000000.0  2010   \n",
            "4                  Iron Man 2   Par.      312400000.0     311500000.0  2010   \n",
            "\n",
            "   TotalRevenue     tconst              original_title  start_year  \\\n",
            "0  1.067000e+09  tt0435761                 Toy Story 3        2010   \n",
            "1  8.283000e+08  tt1375666                   Inception        2010   \n",
            "2  7.526000e+08  tt0892791         Shrek Forever After        2010   \n",
            "3  6.985000e+08  tt1325004  The Twilight Saga: Eclipse        2010   \n",
            "4  6.239000e+08  tt1228705                  Iron Man 2        2010   \n",
            "\n",
            "   runtime_minutes                      genres  averagerating  numvotes  \n",
            "0            103.0  Adventure,Animation,Comedy            8.3    682218  \n",
            "1            148.0     Action,Adventure,Sci-Fi            8.8   1841066  \n",
            "2             93.0  Adventure,Animation,Comedy            6.3    167532  \n",
            "3            124.0     Adventure,Drama,Fantasy            5.0    211733  \n",
            "4            124.0     Action,Adventure,Sci-Fi            7.0    657690  \n"
          ]
        }
      ]
    },
    {
      "cell_type": "markdown",
      "source": [
        "## Final dataframe"
      ],
      "metadata": {
        "id": "KlyPGXCtZnDs"
      }
    },
    {
      "cell_type": "code",
      "source": [
        "# detect runtime and rating columns\n",
        "runtime_col = None\n",
        "for col in merged.columns:\n",
        "    if 'runtime' in col.lower():\n",
        "        runtime_col = col\n",
        "        break\n",
        "\n",
        "rating_col = None\n",
        "for col in merged.columns:\n",
        "    if 'rating' in col.lower():\n",
        "        rating_col = col\n",
        "        break"
      ],
      "metadata": {
        "id": "8l2hdkSFXpaH"
      },
      "execution_count": null,
      "outputs": []
    },
    {
      "cell_type": "code",
      "source": [
        "# rename and keep relevant columns\n",
        "df = merged.rename(columns={\n",
        "    runtime_col: 'RuntimeMinutes',\n",
        "    rating_col: 'OverallRating'\n",
        "})[['TotalRevenue', 'RuntimeMinutes', 'OverallRating']]"
      ],
      "metadata": {
        "id": "lP0ORJODXpHS"
      },
      "execution_count": null,
      "outputs": []
    },
    {
      "cell_type": "code",
      "source": [
        "# converting runtime to numeric\n",
        "df['RuntimeMinutes'] = pd.to_numeric(df['RuntimeMinutes'], errors='coerce')"
      ],
      "metadata": {
        "id": "-tuamYk9aHFM"
      },
      "execution_count": null,
      "outputs": []
    },
    {
      "cell_type": "code",
      "source": [
        "# drop missing values\n",
        "df = df.dropna()\n",
        "\n",
        "print(\"Final cleaned dataset shape:\", df.shape)\n",
        "print(df.head())"
      ],
      "metadata": {
        "colab": {
          "base_uri": "https://localhost:8080/"
        },
        "id": "lRzZBRwkaG-t",
        "outputId": "1a9f4477-3507-4d40-fffb-b00fe152de31"
      },
      "execution_count": null,
      "outputs": [
        {
          "output_type": "stream",
          "name": "stdout",
          "text": [
            "Final cleaned dataset shape: (2980, 3)\n",
            "   TotalRevenue  RuntimeMinutes  OverallRating\n",
            "0  1.067000e+09           103.0            8.3\n",
            "1  8.283000e+08           148.0            8.8\n",
            "2  7.526000e+08            93.0            6.3\n",
            "3  6.985000e+08           124.0            5.0\n",
            "4  6.239000e+08           124.0            7.0\n"
          ]
        }
      ]
    },
    {
      "cell_type": "markdown",
      "source": [
        "## Final dataFrame interpretation\n",
        "**Final dataset:** Contains three key numerical variables:\n",
        "\n",
        "\n",
        "* **TotalRevenue:** Combine domestic and foreign box office revenue for each movie.\n",
        "* **RuntimeMinutes:** Total length of each movie in minutes.\n",
        "\n",
        "* **OverallRating:** Average IMDb rating representing audience reception.\n",
        "\n",
        "**Shape and Coverage:**\n",
        "\n",
        "* After cleaning and merging, the dataset includes 'X' rows (movies) and 3columns (core features)\n",
        "* Missing values were removed to ensure reliability in analysis.\n",
        "\n",
        "**Currency and Units:**\n",
        "\n",
        "\n",
        "*   TotalRevenue is expressed in US dollars.\n",
        "\n",
        "*   Runtime is measuerd in minutes.\n",
        "*   OverallRating follows the IMDb scale (0-10)\n",
        "\n",
        "\n",
        "**Initial Observations:**\n",
        "\n",
        "*   Revenue values are highly recommended - most earned equally, but few extremely dominated the totals.\n",
        "\n",
        "*   Runtime values cluster around 90-120 minutes, typical for feature-length films.\n",
        "*   Ratings cluster between 6-8, suggesting most movies are moderately well received.\n",
        "\n",
        "\n",
        "\n",
        "\n",
        "\n",
        "\n",
        "\n",
        "\n",
        "\n"
      ],
      "metadata": {
        "id": "ndR-4pzms6gA"
      }
    },
    {
      "cell_type": "markdown",
      "source": [
        "## Summary statistics"
      ],
      "metadata": {
        "id": "xiPAaatBiD7k"
      }
    },
    {
      "cell_type": "code",
      "source": [
        "# summary statistics\n",
        "print(df.describe())\n",
        "\n",
        "print(\"\\nMedian values:\")\n",
        "print(df.median())\n",
        "\n",
        "print(\"\\nMode values:\")\n",
        "print(df.mode().iloc[0])\n",
        "\n",
        "print(\"\\nMissing values:\")\n",
        "print(df.isnull().sum())"
      ],
      "metadata": {
        "colab": {
          "base_uri": "https://localhost:8080/"
        },
        "id": "6fvnsP9KbGvn",
        "outputId": "32d6895b-2f2f-452d-a41f-a7209d2c98b8"
      },
      "execution_count": null,
      "outputs": [
        {
          "output_type": "stream",
          "name": "stdout",
          "text": [
            "       TotalRevenue  RuntimeMinutes  OverallRating\n",
            "count  2.980000e+03     2980.000000    2980.000000\n",
            "mean   7.779790e+07      107.217114       6.461040\n",
            "std    1.737329e+08       20.073886       0.997968\n",
            "min    1.000000e+02        3.000000       1.600000\n",
            "25%    3.027500e+05       94.000000       5.900000\n",
            "50%    6.726000e+06      105.000000       6.600000\n",
            "75%    6.890000e+07      118.000000       7.100000\n",
            "max    1.405400e+09      272.000000       9.200000\n",
            "\n",
            "Median values:\n",
            "TotalRevenue      6726000.0\n",
            "RuntimeMinutes        105.0\n",
            "OverallRating           6.6\n",
            "dtype: float64\n",
            "\n",
            "Mode values:\n",
            "TotalRevenue      1300000.0\n",
            "RuntimeMinutes        100.0\n",
            "OverallRating           6.8\n",
            "Name: 0, dtype: float64\n",
            "\n",
            "Missing values:\n",
            "TotalRevenue      0\n",
            "RuntimeMinutes    0\n",
            "OverallRating     0\n",
            "dtype: int64\n"
          ]
        }
      ]
    },
    {
      "cell_type": "markdown",
      "source": [
        "### Overview data\n",
        "**Total Revenue:** Extremely right-skewed.A lot of movies earned below $100M, while other few push totals to billions.\n",
        "\n",
        "**RuntimeMinutes:** Ranged from 90-120 minutes, typical for future films.Few exceed 180minutes.\n",
        "\n",
        "**OverallRating:** Ratings are from 6 and 8, the movies are equally liked.a small amount 3 or above 9.\n",
        "\n",
        "**Missing Values:** minimal missing data after cleaning; safe for analysis.\n",
        "\n"
      ],
      "metadata": {
        "id": "rq8R_27ZjJU6"
      }
    },
    {
      "cell_type": "markdown",
      "source": [
        "## Subset Differences (High vs Low Revenue)"
      ],
      "metadata": {
        "id": "BkpS2uWdnoI_"
      }
    },
    {
      "cell_type": "code",
      "source": [
        "# create High vs Low revenue groups\n",
        "median_revenue = df['TotalRevenue'].median()\n",
        "df['RevenueGroup'] = df['TotalRevenue'].apply(lambda x: 'High' if x >= median_revenue else 'Low')"
      ],
      "metadata": {
        "id": "G9BJ7PQpnWhJ"
      },
      "execution_count": null,
      "outputs": []
    },
    {
      "cell_type": "code",
      "source": [
        "# compare ratings and runtimes between subsets\n",
        "print(df.groupby('RevenueGroup')[['RuntimeMinutes', 'OverallRating']].mean())"
      ],
      "metadata": {
        "colab": {
          "base_uri": "https://localhost:8080/"
        },
        "id": "AsTMqS0epEs8",
        "outputId": "69bd3c00-ba6a-4dae-86ea-ffe3476629a6"
      },
      "execution_count": null,
      "outputs": [
        {
          "output_type": "stream",
          "name": "stdout",
          "text": [
            "              RuntimeMinutes  OverallRating\n",
            "RevenueGroup                               \n",
            "High              108.113423       6.451678\n",
            "Low               106.320805       6.470403\n"
          ]
        }
      ]
    },
    {
      "cell_type": "code",
      "source": [
        "# Boxplots\n",
        "import seaborn as sns\n",
        "import matplotlib.pyplot as plt\n",
        "\n",
        "fig, axes = plt.subplots(1, 2, figsize=(14,5))\n",
        "sns.boxplot(data=df, x='RevenueGroup', y='RuntimeMinutes', ax=axes[0])\n",
        "axes[0].set_title('Runtime by Revenue Category')\n",
        "\n",
        "sns.boxplot(data=df, x='RevenueGroup', y='OverallRating', ax=axes[1])\n",
        "axes[1].set_title('Rating by Revenue Category')\n",
        "\n",
        "plt.tight_layout()\n",
        "plt.show()"
      ],
      "metadata": {
        "colab": {
          "base_uri": "https://localhost:8080/",
          "height": 425
        },
        "id": "EAWYfb82pEaE",
        "outputId": "4cfb9ce9-7a07-4965-848f-200a05ac5eda"
      },
      "execution_count": null,
      "outputs": [
        {
          "output_type": "display_data",
          "data": {
            "text/plain": [
              "<Figure size 1400x500 with 2 Axes>"
            ],
            "image/png": "[encoded data removed]"
          },
          "metadata": {}
        }
      ]
    },
    {
      "cell_type": "markdown",
      "source": [
        "## Interpretation:\n",
        "### High vs low movies\n",
        "**Runtime:** High-revenue movies are slightly longer on average, suggesting big-budget films allowfor extended storytelling.\n",
        "\n",
        "**Rating:** High-revenue movies tend to have slightly higher ratings, though the overlap is large, meaning audience approval alone doesnt guarantee earnings.\n",
        "\n",
        "**Overall insight:** While longer, better-rated films often earn more, other factors."
      ],
      "metadata": {
        "id": "XF3ISj24sKEB"
      }
    },
    {
      "cell_type": "markdown",
      "source": [
        "## Correlation Analysis"
      ],
      "metadata": {
        "id": "rf8A1pIyumdS"
      }
    },
    {
      "cell_type": "code",
      "source": [
        "# correlation matrix\n",
        "corr = df[['TotalRevenue', 'RuntimeMinutes', 'OverallRating']].corr()\n",
        "print(corr)"
      ],
      "metadata": {
        "colab": {
          "base_uri": "https://localhost:8080/"
        },
        "id": "c1jXbfkTpEKZ",
        "outputId": "c264bb68-fe8d-4ad2-ea91-1114458e2032"
      },
      "execution_count": null,
      "outputs": [
        {
          "output_type": "stream",
          "name": "stdout",
          "text": [
            "                TotalRevenue  RuntimeMinutes  OverallRating\n",
            "TotalRevenue        1.000000        0.150077       0.120423\n",
            "RuntimeMinutes      0.150077        1.000000       0.151125\n",
            "OverallRating       0.120423        0.151125       1.000000\n"
          ]
        }
      ]
    },
    {
      "cell_type": "code",
      "source": [
        "# heatmap\n",
        "plt.figure(figsize=(8, 6))\n",
        "sns.heatmap(corr, annot=True, cmap='coolwarm', fmt=\".2f\")\n",
        "plt.title('Correlation Matrix')\n",
        "plt.show()"
      ],
      "metadata": {
        "colab": {
          "base_uri": "https://localhost:8080/",
          "height": 545
        },
        "id": "B6IHBuPMuw6A",
        "outputId": "146ddfe6-20bb-4d48-d319-9eebc4d1bdf4"
      },
      "execution_count": null,
      "outputs": [
        {
          "output_type": "display_data",
          "data": {
            "text/plain": [
              "<Figure size 800x600 with 2 Axes>"
            ],
            "image/png": "[encoded data removed]"
          },
          "metadata": {}
        }
      ]
    },
    {
      "cell_type": "markdown",
      "source": [
        "### Correlation insights\n",
        "**TotalRevenue vs RuntimeMinutes:** Weak positive correlation.\n",
        "\n",
        "**TotalRevenue vs OverallRating:** Moderate positive correlation - higher-rated movies often gross more, but rating isnt the sole preditor.\n",
        "\n",
        "**Runtime vs Rating:** Minimal relationship; length doesnt strongly affect audience score."
      ],
      "metadata": {
        "id": "naP6ciqTve9K"
      }
    },
    {
      "cell_type": "markdown",
      "source": [
        "## Featuring Engineering: Revenue per Minute"
      ],
      "metadata": {
        "id": "0bBRXoCvxFh7"
      }
    },
    {
      "cell_type": "code",
      "source": [
        "# create new future\n",
        "df['RevenuePerMinute'] = df['TotalRevenue'] / df['RuntimeMinutes']"
      ],
      "metadata": {
        "id": "Fghvx1J6xGaN"
      },
      "execution_count": null,
      "outputs": []
    },
    {
      "cell_type": "code",
      "source": [
        "# explore distribution\n",
        "plt.figure(figsize=(8,5))\n",
        "sns.histplot(df['RevenuePerMinute'], kde=True)\n",
        "plt.title('Distribution of Revenue per Minute')\n",
        "plt.show()"
      ],
      "metadata": {
        "colab": {
          "base_uri": "https://localhost:8080/",
          "height": 487
        },
        "id": "zwFirEPMxH5C",
        "outputId": "eb52b0c5-4f67-44fb-81c8-82a15462f8a9"
      },
      "execution_count": null,
      "outputs": [
        {
          "output_type": "display_data",
          "data": {
            "text/plain": [
              "<Figure size 800x500 with 1 Axes>"
            ],
            "image/png": "[encoded data removed]"
          },
          "metadata": {}
        }
      ]
    },
    {
      "cell_type": "code",
      "source": [
        "# relationship with overall rating\n",
        "plt.figure(figsize=(8,5))\n",
        "sns.scatterplot(data=df, x='OverallRating', y='RevenuePerMinute')\n",
        "plt.title('Revenue per Minute vs Overall Rating')\n",
        "plt.show()"
      ],
      "metadata": {
        "colab": {
          "base_uri": "https://localhost:8080/",
          "height": 487
        },
        "id": "uD0fvkMjxHrc",
        "outputId": "e8479111-0ff3-4279-d158-ea09ad8ca962"
      },
      "execution_count": null,
      "outputs": [
        {
          "output_type": "display_data",
          "data": {
            "text/plain": [
              "<Figure size 800x500 with 1 Axes>"
            ],
            "image/png": "[encoded data removed]"
          },
          "metadata": {}
        }
      ]
    },
    {
      "cell_type": "code",
      "source": [
        "# quick stats\n",
        "print(df['RevenuePerMinute'].describe())"
      ],
      "metadata": {
        "colab": {
          "base_uri": "https://localhost:8080/"
        },
        "id": "o0I4uGmmyoQh",
        "outputId": "42668730-56d4-4347-e715-932ac66b6a49"
      },
      "execution_count": null,
      "outputs": [
        {
          "output_type": "stream",
          "name": "stdout",
          "text": [
            "count    2.980000e+03\n",
            "mean     7.286413e+05\n",
            "std      1.845487e+06\n",
            "min      1.149425e+00\n",
            "25%      2.731117e+03\n",
            "50%      6.512933e+04\n",
            "75%      6.601709e+05\n",
            "max      5.393333e+07\n",
            "Name: RevenuePerMinute, dtype: float64\n"
          ]
        }
      ]
    },
    {
      "cell_type": "markdown",
      "source": [
        "### Revenue per Minute Analysis:\n",
        "**Distribution:** Highly skewed - most films earn under $1M per minute, but blockbusters achieve extreme values.\n",
        "\n",
        "**Relation to Ratings:** No strong visible trend - some low-rated films earn well per minute.\n",
        "\n",
        "**Insight:** Revenue efficiency is a useful measure of profitability beyond raw totals."
      ],
      "metadata": {
        "id": "NQwk1DuWzEyX"
      }
    },
    {
      "cell_type": "markdown",
      "source": [
        "## Conclusions\n",
        "\n",
        "**Revenue Patterns:** Total revenue is dominated by few ,massive hits; most films earn modest amounts.\n",
        "\n",
        "**Subsets:** High-revenue films are slightly longer and better rated, but exeptions exist.\n",
        "\n",
        "**Correlations:** Ratings moderately relate to revenue;runtime shows weaker influence.\n",
        "\n",
        "**New Feature:** Revenue per minute highlights \"efficiency earners\" - shorter films with huge box office pulls.\n",
        "\n",
        "\n",
        "**Overall:** Insights can inform movie budgeting, runtime decisions, and expectations for returns relative to quality."
      ],
      "metadata": {
        "id": "M6l0xuyG0nSf"
      }
    },
    {
      "cell_type": "markdown",
      "source": [
        "## Actionable Recommandations\n",
        "\n",
        "\n",
        "* **Finding:** Movies with higher ratings tend to earn more revenue overall.\n",
        "\n",
        "* **Action:** It should focus more on storytelling, action and production quality to boost ratings, which in turn can improve box office perfomance.\n",
        "\n",
        "* **Why:** Even though not a perfect preditor, good ratings correlate moderately with revenue.  \n",
        "\n",
        "\n"
      ],
      "metadata": {
        "id": "fG1p-Oaiq6e2"
      }
    }
  ]
}